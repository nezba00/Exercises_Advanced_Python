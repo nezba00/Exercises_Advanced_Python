{
 "cells": [
  {
   "cell_type": "markdown",
   "metadata": {},
   "source": [
    "<h2><center>Week 1 - Assignment</center></h2>\n",
    "<h3><center>Programming for Data Science 2024</center></h3>"
   ]
  },
  {
   "cell_type": "markdown",
   "metadata": {},
   "source": [
    "Exercises for the topics covered in the first lecture.\n",
    "\n",
    "The exercise will be marked as passed if you get **at least 10/15** points.\n",
    "\n",
    "Exercises must be handed in via **ILIAS** (Homework assignments). Deliver your submission as a compressed file (zip) containing one .py or .ipynb file with all exercises. The name of both the .zip and the .py/.ipynb file must be *SurnameName* of the two members of the group. Example: Riccardo Cusinato + Athina Tzovara = *CusinatoRiccardo_TzovaraAthina.zip* .\n",
    "\n",
    "It's important to use comments to explain your code and show that you're able to take ownership of the exercises and discuss them.\n",
    "\n",
    "You are not expected to collaborate outside of the group on exercises and submitting other groups’ code as your own will result in 0 points.\n",
    "\n",
    "For questions contact: *riccardo.cusinato@unibe.ch* with the subject: *Programming for Data Science 2024*.\n",
    "\n",
    "**Deadline: 14:00, February 29, 2024.**"
   ]
  },
  {
   "cell_type": "markdown",
   "metadata": {},
   "source": [
    "<h3 style=\"text-align:left;\">Exercise 1 - Indentation<span style=\"float: right\">1 point</span></h3>"
   ]
  },
  {
   "cell_type": "markdown",
   "metadata": {},
   "source": [
    "Fix the indentation in the following code. Output should be ”[0, 1, 2]”."
   ]
  },
  {
   "cell_type": "code",
   "execution_count": 1,
   "metadata": {},
   "outputs": [
    {
     "name": "stdout",
     "output_type": "stream",
     "text": [
      "[0, 1, 2]\n"
     ]
    }
   ],
   "source": [
    "N_max = 5\n",
    "n = 0\n",
    "n_list = []\n",
    "\n",
    "for n in range(N_max):\n",
    "\n",
    "    if n < 3:\n",
    "        n_list.append(n)\n",
    "\n",
    "print(n_list)"
   ]
  },
  {
   "cell_type": "markdown",
   "metadata": {},
   "source": [
    "<h3 style=\"text-align:left;\">Exercise 2 - Python variables<span style=\"float: right\">1 point</span></h3>"
   ]
  },
  {
   "cell_type": "markdown",
   "metadata": {},
   "source": [
    "In class, you've seen how Python variables are internally stored. Given the following piece of code, what do you expect to happen? Why? How can you check where the two lists are stored in memory? Comment and write additional code."
   ]
  },
  {
   "cell_type": "code",
   "execution_count": 14,
   "metadata": {},
   "outputs": [
    {
     "name": "stdout",
     "output_type": "stream",
     "text": [
      "[1, 2, 3, 4]\n",
      "1961174166976\n",
      "1961174166976\n"
     ]
    }
   ],
   "source": [
    "# Define two lists\n",
    "list1 = [1, 2, 3]\n",
    "list2 = list1\n",
    "\n",
    "# Append\n",
    "list2.append(4)\n",
    "\n",
    "print(list1)\n",
    "\n",
    "# list1 is first assigned and list2 is then assigned to the same memory location\n",
    "# Because of this, if we change the value of the object the variables are\n",
    "# pointing to, the value changes for both variables. So list1 now also has\n",
    "# number 4 appended to it.\n",
    "\n",
    "# This can easily be shown with id() which returns the memory location of the\n",
    "# assigned object\n",
    "\n",
    "# Check memory location of list1 and list2\n",
    "print(id(list1))\n",
    "print(id(list2))"
   ]
  },
  {
   "cell_type": "markdown",
   "metadata": {},
   "source": [
    "What is the difference between the following list *lst* and tuple *tpl*? Comment."
   ]
  },
  {
   "cell_type": "code",
   "execution_count": 16,
   "metadata": {},
   "outputs": [
    {
     "ename": "TypeError",
     "evalue": "'tuple' object does not support item assignment",
     "output_type": "error",
     "traceback": [
      "\u001b[1;31m---------------------------------------------------------------------------\u001b[0m",
      "\u001b[1;31mTypeError\u001b[0m                                 Traceback (most recent call last)",
      "Cell \u001b[1;32mIn[16], line 8\u001b[0m\n\u001b[0;32m      4\u001b[0m \u001b[38;5;66;03m# Tuples and lists are very similar with the big difference that tuples are\u001b[39;00m\n\u001b[0;32m      5\u001b[0m \u001b[38;5;66;03m# immutable.\u001b[39;00m\n\u001b[0;32m      7\u001b[0m lst[\u001b[38;5;241m2\u001b[39m] \u001b[38;5;241m=\u001b[39m \u001b[38;5;241m4\u001b[39m\n\u001b[1;32m----> 8\u001b[0m \u001b[43mtpl\u001b[49m\u001b[43m[\u001b[49m\u001b[38;5;241;43m2\u001b[39;49m\u001b[43m]\u001b[49m \u001b[38;5;241m=\u001b[39m \u001b[38;5;241m4\u001b[39m\n",
      "\u001b[1;31mTypeError\u001b[0m: 'tuple' object does not support item assignment"
     ]
    }
   ],
   "source": [
    "lst = [1, 2, 3]\n",
    "tpl = (1, 2, 3)\n",
    "\n",
    "# Tuples and lists are very similar with the difference that tuples are\n",
    "# immutable.\n",
    "\n",
    "# This can be shown by the following two lines, where we try to assign the \n",
    "# value 4 to the item with the index 2. This works with lists but not with \n",
    "#tuples.\n",
    "lst[2] = 4\n",
    "tpl[2] = 4\n",
    "\n",
    "# If you execute this cell you can see that we get a TypeError from line 8 "
   ]
  },
  {
   "cell_type": "markdown",
   "metadata": {},
   "source": [
    "<h3 style=\"text-align:left;\">Exercise 2 - List intersection<span style=\"float: right\">2 points</span></h3>"
   ]
  },
  {
   "cell_type": "markdown",
   "metadata": {},
   "source": [
    "Write a program that takes two lists, and returns another list with the elements common to both of them. Example:\n",
    "```python \n",
    "list1 = [1, 2, 3]\n",
    "list2 = [3, 4, 5]\n",
    "output = [3]\n",
    "```\n",
    "Additionally,\n",
    "- Write the code as a function called *lists_intersection* that takes two lists as input as gives the intersection list as output."
   ]
  },
  {
   "cell_type": "code",
   "execution_count": 2,
   "metadata": {},
   "outputs": [
    {
     "data": {
      "text/plain": [
       "[3]"
      ]
     },
     "execution_count": 2,
     "metadata": {},
     "output_type": "execute_result"
    }
   ],
   "source": [
    "# Set variables\n",
    "list1 = [1, 2, 3]\n",
    "list2 = [3, 4, 5]\n",
    "\n",
    "# Define function that returns the intersection of two lists\n",
    "def lists_intersection(x, y):\n",
    "    # Create empty result list\n",
    "    results = []\n",
    "\n",
    "    for i in range(len(x)):\n",
    "        if x[i] in y:\n",
    "            results.append(x[i])\n",
    "\n",
    "    return results\n",
    "\n",
    "lists_intersection(list1, list2)"
   ]
  },
  {
   "cell_type": "markdown",
   "metadata": {},
   "source": [
    "<h3 style=\"text-align:left;\">Exercise 3 - Strings filter<span style=\"float: right\">3 points</span></h3>"
   ]
  },
  {
   "cell_type": "markdown",
   "metadata": {},
   "source": [
    "Write a function named *strings_filter* that takes a list of strings and a number and returns another list with only the strings *shorter* than that number. Example:\n",
    "```python \n",
    "strings_filter([\"Python\", \"hello\", \"C++\"], 4)   # returns [\"C++\"]\n",
    "strings_filter([\"Python\", \"hello\", \"C++\"], 6)   # returns [\"hello\", \"C++\"]\n",
    "```\n",
    "Hint: you can accomplish this using a for loop."
   ]
  },
  {
   "cell_type": "code",
   "execution_count": 4,
   "metadata": {},
   "outputs": [
    {
     "name": "stdout",
     "output_type": "stream",
     "text": [
      "['C++']\n",
      "['hello', 'C++']\n"
     ]
    }
   ],
   "source": [
    "\n",
    "def strings_filter(data, max_length):\n",
    "    result_list = []\n",
    "\n",
    "    for string in data:\n",
    "        if len(string) < max_length:\n",
    "            result_list.append(string)\n",
    "\n",
    "    return result_list\n",
    "\n",
    "\n",
    "# Test code\n",
    "print(strings_filter([\"Python\", \"hello\", \"C++\"], 4))\n",
    "print(strings_filter([\"Python\", \"hello\", \"C++\"], 6))\n"
   ]
  },
  {
   "cell_type": "markdown",
   "metadata": {},
   "source": [
    "<h3 style=\"text-align:left;\">Exercise 4 - Leap years on Mars<span style=\"float: right\">4 points</span></h3>"
   ]
  },
  {
   "cell_type": "markdown",
   "metadata": {},
   "source": [
    "2024 is a leap year on Earth, meaning a year has one more day (29th of February). On Earth, leap years are those that are divisible by 4 (like 2024, 2028, etc.). \n",
    "\n",
    "On Mars, instead, leap years are those divisible by 6 (like 2028, 2034, etc.), with some exceptions:\n",
    "- if a year is divisible by 120 (e.g. 1680) or 36 (e.g. 2016), it's *not* a leap year.\n",
    "- however, if the year is divisible by 600 (e.g. 1800), it *is* a leap year, independently of the previous condition.\n",
    "\n",
    "Your task is to write a function named *is_leap_year* that asks the user to input a year, and returns True if it is a leap year on Mars, False otherwise. Example:\n",
    "```python\n",
    "is_leap_year(2028)  # returns True\n",
    "is_leap_year(2024)  # returns False (not divisible by 6)\n",
    "is_leap_year(1680)  # returns False (divisible by 120)\n",
    "is_leap_year(1800)  # returns True (divisible by 600)\n",
    "is_leap_year(2016)  # returns False (is divisible by 36)\n",
    "```\n",
    "N.B. The return type must be *boolean*.\n",
    "\n",
    "Additionally:\n",
    "- add a constrain that prints \"Can't calculate leap year\" if the given year is before 0 or after 5000."
   ]
  },
  {
   "cell_type": "code",
   "execution_count": 20,
   "metadata": {},
   "outputs": [
    {
     "name": "stdout",
     "output_type": "stream",
     "text": [
      "True\n",
      "False\n",
      "False\n",
      "True\n",
      "False\n",
      "Can't calculate leap year\n",
      "None\n",
      "Can't calculate leap year\n",
      "None\n"
     ]
    },
    {
     "data": {
      "text/plain": [
       "bool"
      ]
     },
     "execution_count": 20,
     "metadata": {},
     "output_type": "execute_result"
    }
   ],
   "source": [
    "def is_leap_year(year):\n",
    "    # stop if year is not bigger than 0 and smaller than 5000\n",
    "    if not 0 <= year <= 5000:\n",
    "        print(\"Can't calculate leap year\")\n",
    "    # Check if year is divisible by 600 (most important condition)\n",
    "    elif year % 600 == 0:\n",
    "        return True   \n",
    "    # Check if year is divisible by 120 or 36\n",
    "    elif year % 120 == 0 or year % 36 == 0:\n",
    "        return False\n",
    "    # Check if year is divisible by 6\n",
    "    elif year % 6 == 0:\n",
    "        return True\n",
    "    # Return false when no conditions have been true\n",
    "    else:\n",
    "        return False\n",
    "    \n",
    "\n",
    "### Test function\n",
    "# Check function with example numbers\n",
    "print(is_leap_year(2028))  # returns True\n",
    "print(is_leap_year(2024))  # returns False (not divisible by 6)\n",
    "print(is_leap_year(1680))  # returns False (divisible by 120)\n",
    "print(is_leap_year(1800))  # returns True (divisible by 600)\n",
    "print(is_leap_year(2016))  # returns False (is divisible by 36)\n",
    "print(is_leap_year(-1))  # returns False (is divisible by 36)\n",
    "print(is_leap_year(6000))  # returns False (is divisible by 36)\n",
    "\n",
    "\n",
    "# Check if function returns a bool\n",
    "type(is_leap_year(2000))"
   ]
  },
  {
   "cell_type": "markdown",
   "metadata": {},
   "source": [
    "<h3 style=\"text-align:left;\">Exercise 5 - Number divisors<span style=\"float: right\">4 points</span></h3>"
   ]
  },
  {
   "cell_type": "markdown",
   "metadata": {},
   "source": [
    "A divisor of a number, is another number that divides the first number without reminder, e.g. 4 is a divisor of 20. 1 and the number itself are always divisors. \n",
    "\n",
    "Write a function named *find_divisors* that takes a number in input and returns *all* its divisors. Example:\n",
    "```python \n",
    "find_divisors(20)  # returns [1, 2, 4, 5, 10, 20]\n",
    "find_divisors(7)  # returns [1, 7]\n",
    "```\n",
    "Additionally:\n",
    "- write a second version of the function called *find_common_divisors* that takes two numbers and returns all the *common* divisors. Example:\n",
    "```python \n",
    "find_common_divisors(20, 30)  # returns [1, 2, 5, 10]\n",
    "find_common_divisors(5, 7)  # returns [1]\n",
    "```\n",
    "Hint: exploit the previous function *find_divisors* to build this one."
   ]
  },
  {
   "cell_type": "code",
   "execution_count": 26,
   "metadata": {},
   "outputs": [
    {
     "name": "stdout",
     "output_type": "stream",
     "text": [
      "[1, 2, 4, 5, 10, 20]\n",
      "[1, 7]\n",
      "[1, 2, 5, 10]\n",
      "[1]\n"
     ]
    }
   ],
   "source": [
    "# Copy paste list intersection function from above for reuse in \n",
    "# find_common_divisors\n",
    "\n",
    "def lists_intersection(x, y):\n",
    "    # Create empty result list\n",
    "    results = []\n",
    "\n",
    "    for i in range(len(x)):\n",
    "        if x[i] in y:\n",
    "            results.append(x[i])\n",
    "\n",
    "    return results\n",
    "\n",
    "\n",
    "\n",
    "\n",
    "# Create function common divisors\n",
    "def find_divisors(x):\n",
    "    # Create empty result list\n",
    "    result_list = []\n",
    "    for i in range(1, x+1):\n",
    "        if x % i == 0:\n",
    "            result_list.append(i)\n",
    "    \n",
    "    return result_list\n",
    "\n",
    "# Test find_divisor function\n",
    "print(find_divisors(20))\n",
    "print(find_divisors(7))\n",
    "\n",
    "\n",
    "\n",
    "\n",
    "\n",
    "# Define function that returns list with common divisors of x and y\n",
    "def find_common_divisors(x, y):\n",
    "    divisors_x = find_divisors(x)\n",
    "    divisors_y = find_divisors(y)\n",
    "\n",
    "    return lists_intersection(divisors_x, divisors_y)\n",
    "\n",
    "# Test find_common_divisors function\n",
    "print(find_common_divisors(20,30))\n",
    "print(find_common_divisors(5,7))"
   ]
  }
 ],
 "metadata": {
  "kernelspec": {
   "display_name": "dash",
   "language": "python",
   "name": "python3"
  },
  "language_info": {
   "codemirror_mode": {
    "name": "ipython",
    "version": 3
   },
   "file_extension": ".py",
   "mimetype": "text/x-python",
   "name": "python",
   "nbconvert_exporter": "python",
   "pygments_lexer": "ipython3",
   "version": "3.10.11"
  }
 },
 "nbformat": 4,
 "nbformat_minor": 2
}
